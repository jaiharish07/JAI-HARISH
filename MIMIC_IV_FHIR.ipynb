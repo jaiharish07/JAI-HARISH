{
  "nbformat": 4,
  "nbformat_minor": 0,
  "metadata": {
    "colab": {
      "provenance": []
    },
    "kernelspec": {
      "name": "python3",
      "display_name": "Python 3"
    },
    "language_info": {
      "name": "python"
    }
  },
  "cells": [
    {
      "cell_type": "code",
      "source": [
        "# extracting the compessed Dataset\n",
        "from zipfile import ZipFile\n",
        "dataset = '/content/drive/MyDrive/mimic-iv-clinical-database-demo-on-fhir-2.0.zip'\n",
        "\n",
        "with ZipFile(dataset,'r') as zip:\n",
        "  zip.extractall()\n",
        "  print('The dataset is extracted')"
      ],
      "metadata": {
        "colab": {
          "base_uri": "https://localhost:8080/"
        },
        "id": "BdoROLtlrfwz",
        "outputId": "b6b3ec04-ee7d-43c2-a939-7e861ac3bed8"
      },
      "execution_count": 3,
      "outputs": [
        {
          "output_type": "stream",
          "name": "stdout",
          "text": [
            "The dataset is extracted\n"
          ]
        }
      ]
    },
    {
      "cell_type": "code",
      "source": [
        "import json\n",
        "import pandas as pd\n",
        "\n",
        "def load_json(file_path):\n",
        "    with open(file_path, 'r') as file:\n",
        "        return [json.loads(line) for line in file]\n",
        "\n",
        "patients = load_json('/content/mimic-iv-clinical-database-demo-on-fhir-2.0/mimic-fhir/Patient.ndjson')\n",
        "conditions = load_json('/content/mimic-iv-clinical-database-demo-on-fhir-2.0/mimic-fhir/Condition.ndjson')\n",
        "encounters = load_json('/content/mimic-iv-clinical-database-demo-on-fhir-2.0/mimic-fhir/Encounter.ndjson')\n",
        "icu_encounters = load_json('/content/mimic-iv-clinical-database-demo-on-fhir-2.0/mimic-fhir/EncounterICU.ndjson')\n",
        "\n",
        "patient_conditions = {}\n",
        "\n",
        "for condition in conditions:\n",
        "    patient_id = condition['subject']['reference'].split('/')[1]\n",
        "    if patient_id not in patient_conditions:\n",
        "        patient_conditions[patient_id] = []\n",
        "    patient_conditions[patient_id].append(condition)\n",
        "\n",
        "def find_start_time(encounter_id):\n",
        "    for encounter in encounters:\n",
        "        if encounter['id'] == encounter_id:\n",
        "            return encounter['period']['start']\n",
        "    for icu_encounter in icu_encounters:\n",
        "        if icu_encounter['id'] == encounter_id:\n",
        "            return icu_encounter['period']['start']\n",
        "\n",
        "csv_rows = []\n",
        "\n",
        "for patient_id, conditions_list in patient_conditions.items():\n",
        "    for condition in conditions_list:\n",
        "        timestamp = find_start_time(condition['encounter']['reference'].split('/')[1])\n",
        "        code = condition['code']['coding'][0]['code']\n",
        "        description = condition['code']['coding'][0]['display']\n",
        "        csv_rows.append({'pid': patient_id, 'time': timestamp, 'code': code, 'description': description})\n",
        "\n",
        "df = pd.DataFrame(csv_rows)\n",
        "\n",
        "df.to_csv('patient_conditions.csv', index=False)\n"
      ],
      "metadata": {
        "id": "qSPO9rrB5jjy"
      },
      "execution_count": 6,
      "outputs": []
    }
  ]
}